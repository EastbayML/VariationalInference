{
  "nbformat": 4,
  "nbformat_minor": 0,
  "metadata": {
    "colab": {
      "name": "BayesianNetwork.ipynb",
      "provenance": [],
      "collapsed_sections": [],
      "authorship_tag": "ABX9TyPtADtvrylzNZ+iQCs+RddZ",
      "include_colab_link": true
    },
    "kernelspec": {
      "name": "python3",
      "display_name": "Python 3"
    },
    "language_info": {
      "name": "python"
    }
  },
  "cells": [
    {
      "cell_type": "markdown",
      "metadata": {
        "id": "view-in-github",
        "colab_type": "text"
      },
      "source": [
        "<a href=\"https://colab.research.google.com/github/EastbayML/VariationalInference/blob/main/BayesianNetwork.ipynb\" target=\"_parent\"><img src=\"https://colab.research.google.com/assets/colab-badge.svg\" alt=\"Open In Colab\"/></a>"
      ]
    },
    {
      "cell_type": "code",
      "metadata": {
        "colab": {
          "base_uri": "https://localhost:8080/"
        },
        "id": "CrgFhOUVd7eA",
        "outputId": "f5487d59-2772-4549-f10c-a1def42bf3c8"
      },
      "source": [
        "import sys\n",
        "print(\"python:\",sys.version)\n",
        "import torch\n",
        "print(\"torch:\",torch.__version__)"
      ],
      "execution_count": 2,
      "outputs": [
        {
          "output_type": "stream",
          "name": "stdout",
          "text": [
            "python: 3.7.12 (default, Sep 10 2021, 00:21:48) \n",
            "[GCC 7.5.0]\n",
            "torch: 1.10.0+cu111\n"
          ]
        }
      ]
    },
    {
      "cell_type": "code",
      "metadata": {
        "id": "CMiOinONPxSv"
      },
      "source": [
        "#%matplotlib inline\n",
        "import numpy as np\n",
        "import torch\n",
        "from torch import nn\n",
        "from sklearn import datasets\n",
        "from torch import dist\n",
        "import matplotlib.pyplot as plt\n",
        "#from IPython.display import clear_output\n",
        "import copy\n",
        "from dataclasses import dataclass\n"
      ],
      "execution_count": 1,
      "outputs": []
    },
    {
      "cell_type": "code",
      "metadata": {
        "id": "s7LwK2qXP3mu"
      },
      "source": [
        "def plotdist(m,X,Y):# draw samples from Q(theta)\n",
        "    plt.figure(figsize=(16, 6))\n",
        "    plt.scatter(X, Y)\n",
        "    if m:\n",
        "        with torch.no_grad():\n",
        "          y_pred = torch.cat([m(X)[0] for _ in range(1000)], dim=1)\n",
        "        \n",
        "        # Get some quantiles\n",
        "        q1, mu, q2 = np.quantile(y_pred, [0.05, 0.5, 0.95], axis=1)\n",
        "\n",
        "\n",
        "        plt.plot(X, mu)\n",
        "        plt.fill_between(X.flatten(), q1, q2, alpha=0.2)"
      ],
      "execution_count": 3,
      "outputs": []
    },
    {
      "cell_type": "code",
      "metadata": {
        "colab": {
          "base_uri": "https://localhost:8080/",
          "height": 374
        },
        "id": "rkDAdFPkPyBn",
        "outputId": "807d23be-3c8f-4dda-e0a2-7d17a7915295"
      },
      "source": [
        "import numpy as np\n",
        "import torch\n",
        "from torch import nn\n",
        "from sklearn import datasets\n",
        "import matplotlib.pyplot as plt\n",
        "\n",
        "w0 = 0.125\n",
        "b0 = 5.\n",
        "x_range = [-20, 60]\n",
        "\n",
        "np.random.seed(43)\n",
        "\n",
        "def load_dataset(n=150, n_tst=150):\n",
        "    def s(x):\n",
        "        g = (x - x_range[0]) / (x_range[1] - x_range[0])\n",
        "        return 3 * (0.25 + g**2.)\n",
        "\n",
        "    x = (x_range[1] - x_range[0]) * np.random.rand(n) + x_range[0]\n",
        "    eps = np.random.randn(n) * s(x)\n",
        "    y = (w0 * x * (1. + np.sin(x)) + b0) + eps\n",
        "    y = (y - y.mean()) / y.std()\n",
        "    idx = np.argsort(x)\n",
        "    x = x[idx]\n",
        "    y = y[idx]\n",
        "    return y[:, None], x[:, None]\n",
        "\n",
        "y, x = load_dataset()\n",
        "plotdist(None,x,y)"
      ],
      "execution_count": 4,
      "outputs": [
        {
          "output_type": "display_data",
          "data": {
            "image/png": "[encoded data removed]",
            "text/plain": [
              "<Figure size 1152x432 with 1 Axes>"
            ]
          },
          "metadata": {
            "needs_background": "light"
          }
        }
      ]
    },
    {
      "cell_type": "code",
      "metadata": {
        "id": "mhtNrqtBOiHP"
      },
      "source": [
        "def det_loss(y, y_pred, mu, log_var):    \n",
        "    reconstruction_error = (0.5 * (y - y_pred)**2).sum()\n",
        "    kl_divergence = (-0.5 * torch.sum(1 + log_var - mu**2 - log_var.exp()))\n",
        "\n",
        "    return (reconstruction_error + kl_divergence).sum()"
      ],
      "execution_count": 5,
      "outputs": []
    },
    {
      "cell_type": "code",
      "metadata": {
        "id": "7vaY25CeSEs9"
      },
      "source": [
        "def ll_gaussian(y, mu, log_var):\n",
        "    sigma = torch.exp(0.5 * log_var)\n",
        "    return -0.5 * torch.log(2 * np.pi * sigma**2) - (1 / (2 * sigma**2))* (y-mu)**2"
      ],
      "execution_count": 6,
      "outputs": []
    },
    {
      "cell_type": "code",
      "metadata": {
        "id": "7HuL6T_ROlgP"
      },
      "source": [
        "class LinearVariational(nn.Module):\n",
        "    \"\"\"\n",
        "    Mean field approximation of nn.Linear\n",
        "    \"\"\"\n",
        "    def __init__(self, in_features, out_features, parent, n_batches, bias=True):\n",
        "        super().__init__()\n",
        "        self.in_features = in_features\n",
        "        self.out_features = out_features\n",
        "        self.include_bias = bias        \n",
        "        self.parent = parent\n",
        "        self.n_batches = n_batches\n",
        "        \n",
        "        if getattr(parent, 'accumulated_kl_div', None) is None:\n",
        "            parent.accumulated_kl_div = 0\n",
        "            \n",
        "        # Initialize the variational parameters.\n",
        "        # 𝑄(𝑤)=N(𝜇_𝜃,𝜎2_𝜃)\n",
        "        # Do some random initialization with 𝜎=0.001\n",
        "        self.w_mu = nn.Parameter(\n",
        "            torch.FloatTensor(in_features, out_features).normal_(mean=0, std=0.001)\n",
        "        )\n",
        "        # proxy for variance\n",
        "        # log(1 + exp(ρ))◦ eps\n",
        "        self.w_p = nn.Parameter(\n",
        "            torch.FloatTensor(in_features, out_features).normal_(mean=-2.5, std=0.001)\n",
        "        )\n",
        "        if self.include_bias:\n",
        "            self.b_mu = nn.Parameter(\n",
        "                torch.zeros(out_features)\n",
        "            )\n",
        "            # proxy for variance\n",
        "            self.b_p = nn.Parameter(\n",
        "                torch.zeros(out_features)\n",
        "            )\n",
        "        \n",
        "    def reparameterize(self, mu, p):\n",
        "        sigma = torch.log(1 + torch.exp(p)) \n",
        "        eps = torch.randn_like(sigma)\n",
        "        return mu + (eps * sigma)\n",
        "    \n",
        "    def kl_divergence(self, z, mu_theta, p_theta, prior_sd=1):\n",
        "        #log_prior = dist.Normal(0, prior_sd).log_prob(z) \n",
        "        #log_p_q = dist.Normal(mu_theta, torch.log(1 + torch.exp(p_theta))).log_prob(z) \n",
        "        log_prior = ll_gaussian(z,torch.zeros(1),torch.log(1 + torch.exp( torch.ones(1)) ))\n",
        "        log_p_q = ll_gaussian(z,mu_theta, torch.log(1 + torch.exp(p_theta)))\n",
        "        return (log_p_q - log_prior).sum() / self.n_batches\n",
        "\n",
        "    def forward(self, x):\n",
        "        w = self.reparameterize(self.w_mu, self.w_p)\n",
        "        \n",
        "        if self.include_bias:\n",
        "            b = self.reparameterize(self.b_mu, self.b_p)\n",
        "        else:\n",
        "            b = 0\n",
        "            \n",
        "        z = x @ w + b\n",
        "        \n",
        "        self.parent.accumulated_kl_div += self.kl_divergence(w, \n",
        "                                                             self.w_mu,\n",
        "                                                             self.w_p, \n",
        "                                                             )\n",
        "        if self.include_bias:\n",
        "            self.parent.accumulated_kl_div += self.kl_divergence(b, \n",
        "                                                                 self.b_mu, \n",
        "                                                                 self.b_p,\n",
        "                                                                 )\n",
        "        return z"
      ],
      "execution_count": 9,
      "outputs": []
    },
    {
      "cell_type": "code",
      "metadata": {
        "id": "w6424H66OpD8"
      },
      "source": [
        "@dataclass\n",
        "class KL:\n",
        "    accumulated_kl_div = 0\n",
        "\n",
        "class Model(nn.Module):\n",
        "    def __init__(self, in_size, hidden_size, out_size, n_batches):\n",
        "        super().__init__()\n",
        "        self.kl_loss = KL\n",
        "        \n",
        "        self.layers = nn.Sequential(\n",
        "            LinearVariational(in_size, hidden_size, self.kl_loss, n_batches),\n",
        "            nn.ReLU(),\n",
        "            LinearVariational(hidden_size, hidden_size, self.kl_loss, n_batches),\n",
        "            nn.ReLU(),\n",
        "            LinearVariational(hidden_size, out_size, self.kl_loss, n_batches)\n",
        "        )\n",
        "    \n",
        "    @property\n",
        "    def accumulated_kl_div(self):\n",
        "        return self.kl_loss.accumulated_kl_div\n",
        "    \n",
        "    def reset_kl_div(self):\n",
        "        self.kl_loss.accumulated_kl_div = 0\n",
        "            \n",
        "    def forward(self, x):\n",
        "        return self.layers(x)"
      ],
      "execution_count": 7,
      "outputs": []
    },
    {
      "cell_type": "code",
      "metadata": {
        "id": "cA_bqFFdOuLc"
      },
      "source": [
        "epochs = 2000\n",
        "\n",
        "def det_loss(y, y_pred, model):\n",
        "    batch_size = y.shape[0]\n",
        "    reconstruction_error = -ll_gaussian(y,y_pred, torch.ones(1)).sum()\n",
        "    #reconstruction_error = -dist.Normal(y_pred, .1).log_prob(y).sum()\n",
        "    kl = model.accumulated_kl_div\n",
        "    model.reset_kl_div()\n",
        "    return reconstruction_error + kl\n",
        "\n",
        "m = Model(1, 20, 1, n_batches=1)\n",
        "optim = torch.optim.Adam(m.parameters(), lr=0.01)\n",
        "\n",
        "X = torch.tensor(x, dtype=torch.float)\n",
        "Y = torch.tensor(y, dtype=torch.float)\n",
        "\n",
        "for epoch in range(epochs):\n",
        "    optim.zero_grad()\n",
        "    y_pred = m(X)\n",
        "    loss = det_loss(y_pred, Y, m)\n",
        "    loss.backward()\n",
        "    optim.step()"
      ],
      "execution_count": 10,
      "outputs": []
    },
    {
      "cell_type": "code",
      "metadata": {
        "id": "gkIgq66oOu-8",
        "colab": {
          "base_uri": "https://localhost:8080/",
          "height": 391
        },
        "outputId": "933a9dd7-ab48-4061-e704-7a0d08af2665"
      },
      "source": [
        "with torch.no_grad():\n",
        "    trace = np.array([m(X).flatten().numpy() for _ in range(1000)]).T\n",
        "q_25, q_95 = np.quantile(trace, [0.05, 0.95], axis=1)\n",
        "plt.figure(figsize=(16, 6))\n",
        "plt.plot(X, trace.mean(1))\n",
        "plt.scatter(X, Y)\n",
        "plt.fill_between(X.flatten(), q_25, q_95, alpha=0.2)"
      ],
      "execution_count": 11,
      "outputs": [
        {
          "output_type": "execute_result",
          "data": {
            "text/plain": [
              "<matplotlib.collections.PolyCollection at 0x7f4f40e83e50>"
            ]
          },
          "metadata": {},
          "execution_count": 11
        },
        {
          "output_type": "display_data",
          "data": {
            "image/png": "[encoded data removed]",
            "text/plain": [
              "<Figure size 1152x432 with 1 Axes>"
            ]
          },
          "metadata": {
            "needs_background": "light"
          }
        }
      ]
    }
  ]
}